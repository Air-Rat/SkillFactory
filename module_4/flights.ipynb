{
 "cells": [
  {
   "cell_type": "markdown",
   "metadata": {},
   "source": [
    "### Аваиарейсы без потерь\n",
    "Задача:\n",
    "Порвести анализ авиарейсов из города Анапв в зимнее время за 2017 год и сделать вывод о том, от каких самых малоприбыльных рейсов мы можем отказаться.\n",
    "\n",
    "**Прибыльность рейса** - это разница между доходом от продаж билетов и расходом на полёт.  \n",
    "Для простоты возьмём такую оценку прибыльности:    \n",
    "**общая стоимость билетов на рейс** - **расходы на топливо**, где <br>**расход на топливо** = **длительность полёта** * **расход в час** * **стомость топлива**."
   ]
  },
  {
   "cell_type": "code",
   "execution_count": 144,
   "metadata": {},
   "outputs": [],
   "source": [
    "import pandas as pd\n",
    "import seaborn as sns\n",
    "import matplotlib.pyplot as plt\n",
    "# ! pip install --user geopy\n",
    "from geopy.distance import geodesic"
   ]
  },
  {
   "cell_type": "code",
   "execution_count": 145,
   "metadata": {},
   "outputs": [],
   "source": [
    "data = pd.read_csv('anapa.csv')"
   ]
  },
  {
   "cell_type": "code",
   "execution_count": 146,
   "metadata": {},
   "outputs": [
    {
     "data": {
      "text/html": [
       "<div>\n",
       "<style scoped>\n",
       "    .dataframe tbody tr th:only-of-type {\n",
       "        vertical-align: middle;\n",
       "    }\n",
       "\n",
       "    .dataframe tbody tr th {\n",
       "        vertical-align: top;\n",
       "    }\n",
       "\n",
       "    .dataframe thead th {\n",
       "        text-align: right;\n",
       "    }\n",
       "</style>\n",
       "<table border=\"1\" class=\"dataframe\">\n",
       "  <thead>\n",
       "    <tr style=\"text-align: right;\">\n",
       "      <th></th>\n",
       "      <th>flight_id</th>\n",
       "      <th>flight_no</th>\n",
       "      <th>scheduled_departure</th>\n",
       "      <th>scheduled_arrival</th>\n",
       "      <th>status</th>\n",
       "      <th>actual_departure</th>\n",
       "      <th>actual_arrival</th>\n",
       "      <th>duration</th>\n",
       "      <th>airport_code</th>\n",
       "      <th>airport_name</th>\n",
       "      <th>...</th>\n",
       "      <th>range</th>\n",
       "      <th>fare_conditions_b</th>\n",
       "      <th>fare_conditions_c</th>\n",
       "      <th>fare_conditions_e</th>\n",
       "      <th>total_tickets_b</th>\n",
       "      <th>total_amount_b</th>\n",
       "      <th>total_tickets_c</th>\n",
       "      <th>total_amount_c</th>\n",
       "      <th>total_tickets_e</th>\n",
       "      <th>total_amount_e</th>\n",
       "    </tr>\n",
       "  </thead>\n",
       "  <tbody>\n",
       "    <tr>\n",
       "      <th>0</th>\n",
       "      <td>136119</td>\n",
       "      <td>PG0252</td>\n",
       "      <td>2017-01-03T10:05:00Z</td>\n",
       "      <td>2017-01-03T11:45:00Z</td>\n",
       "      <td>Arrived</td>\n",
       "      <td>2017-01-03T10:08:00Z</td>\n",
       "      <td>2017-01-03T11:49:00Z</td>\n",
       "      <td>101.0</td>\n",
       "      <td>SVO</td>\n",
       "      <td>Sheremetyevo International Airport</td>\n",
       "      <td>...</td>\n",
       "      <td>4200</td>\n",
       "      <td>12</td>\n",
       "      <td>NaN</td>\n",
       "      <td>118</td>\n",
       "      <td>11.0</td>\n",
       "      <td>402600.0</td>\n",
       "      <td>NaN</td>\n",
       "      <td>NaN</td>\n",
       "      <td>102.0</td>\n",
       "      <td>1250400.0</td>\n",
       "    </tr>\n",
       "    <tr>\n",
       "      <th>1</th>\n",
       "      <td>136120</td>\n",
       "      <td>PG0252</td>\n",
       "      <td>2017-02-24T10:05:00Z</td>\n",
       "      <td>2017-02-24T11:45:00Z</td>\n",
       "      <td>Arrived</td>\n",
       "      <td>2017-02-24T10:07:00Z</td>\n",
       "      <td>2017-02-24T11:46:00Z</td>\n",
       "      <td>99.0</td>\n",
       "      <td>SVO</td>\n",
       "      <td>Sheremetyevo International Airport</td>\n",
       "      <td>...</td>\n",
       "      <td>4200</td>\n",
       "      <td>12</td>\n",
       "      <td>NaN</td>\n",
       "      <td>118</td>\n",
       "      <td>11.0</td>\n",
       "      <td>402600.0</td>\n",
       "      <td>NaN</td>\n",
       "      <td>NaN</td>\n",
       "      <td>98.0</td>\n",
       "      <td>1202800.0</td>\n",
       "    </tr>\n",
       "    <tr>\n",
       "      <th>2</th>\n",
       "      <td>136122</td>\n",
       "      <td>PG0252</td>\n",
       "      <td>2017-01-08T10:05:00Z</td>\n",
       "      <td>2017-01-08T11:45:00Z</td>\n",
       "      <td>Arrived</td>\n",
       "      <td>2017-01-08T10:08:00Z</td>\n",
       "      <td>2017-01-08T11:48:00Z</td>\n",
       "      <td>100.0</td>\n",
       "      <td>SVO</td>\n",
       "      <td>Sheremetyevo International Airport</td>\n",
       "      <td>...</td>\n",
       "      <td>4200</td>\n",
       "      <td>12</td>\n",
       "      <td>NaN</td>\n",
       "      <td>118</td>\n",
       "      <td>10.0</td>\n",
       "      <td>366000.0</td>\n",
       "      <td>NaN</td>\n",
       "      <td>NaN</td>\n",
       "      <td>87.0</td>\n",
       "      <td>1065000.0</td>\n",
       "    </tr>\n",
       "    <tr>\n",
       "      <th>3</th>\n",
       "      <td>136130</td>\n",
       "      <td>PG0252</td>\n",
       "      <td>2017-02-13T10:05:00Z</td>\n",
       "      <td>2017-02-13T11:45:00Z</td>\n",
       "      <td>Arrived</td>\n",
       "      <td>2017-02-13T10:07:00Z</td>\n",
       "      <td>2017-02-13T11:46:00Z</td>\n",
       "      <td>99.0</td>\n",
       "      <td>SVO</td>\n",
       "      <td>Sheremetyevo International Airport</td>\n",
       "      <td>...</td>\n",
       "      <td>4200</td>\n",
       "      <td>12</td>\n",
       "      <td>NaN</td>\n",
       "      <td>118</td>\n",
       "      <td>10.0</td>\n",
       "      <td>366000.0</td>\n",
       "      <td>NaN</td>\n",
       "      <td>NaN</td>\n",
       "      <td>97.0</td>\n",
       "      <td>1190600.0</td>\n",
       "    </tr>\n",
       "    <tr>\n",
       "      <th>4</th>\n",
       "      <td>136131</td>\n",
       "      <td>PG0252</td>\n",
       "      <td>2017-01-28T10:05:00Z</td>\n",
       "      <td>2017-01-28T11:45:00Z</td>\n",
       "      <td>Arrived</td>\n",
       "      <td>2017-01-28T10:07:00Z</td>\n",
       "      <td>2017-01-28T11:46:00Z</td>\n",
       "      <td>99.0</td>\n",
       "      <td>SVO</td>\n",
       "      <td>Sheremetyevo International Airport</td>\n",
       "      <td>...</td>\n",
       "      <td>4200</td>\n",
       "      <td>12</td>\n",
       "      <td>NaN</td>\n",
       "      <td>118</td>\n",
       "      <td>12.0</td>\n",
       "      <td>439200.0</td>\n",
       "      <td>NaN</td>\n",
       "      <td>NaN</td>\n",
       "      <td>112.0</td>\n",
       "      <td>1373600.0</td>\n",
       "    </tr>\n",
       "  </tbody>\n",
       "</table>\n",
       "<p>5 rows × 25 columns</p>\n",
       "</div>"
      ],
      "text/plain": [
       "   flight_id flight_no   scheduled_departure     scheduled_arrival   status  \\\n",
       "0     136119    PG0252  2017-01-03T10:05:00Z  2017-01-03T11:45:00Z  Arrived   \n",
       "1     136120    PG0252  2017-02-24T10:05:00Z  2017-02-24T11:45:00Z  Arrived   \n",
       "2     136122    PG0252  2017-01-08T10:05:00Z  2017-01-08T11:45:00Z  Arrived   \n",
       "3     136130    PG0252  2017-02-13T10:05:00Z  2017-02-13T11:45:00Z  Arrived   \n",
       "4     136131    PG0252  2017-01-28T10:05:00Z  2017-01-28T11:45:00Z  Arrived   \n",
       "\n",
       "       actual_departure        actual_arrival  duration airport_code  \\\n",
       "0  2017-01-03T10:08:00Z  2017-01-03T11:49:00Z     101.0          SVO   \n",
       "1  2017-02-24T10:07:00Z  2017-02-24T11:46:00Z      99.0          SVO   \n",
       "2  2017-01-08T10:08:00Z  2017-01-08T11:48:00Z     100.0          SVO   \n",
       "3  2017-02-13T10:07:00Z  2017-02-13T11:46:00Z      99.0          SVO   \n",
       "4  2017-01-28T10:07:00Z  2017-01-28T11:46:00Z      99.0          SVO   \n",
       "\n",
       "                         airport_name  ... range  fare_conditions_b  \\\n",
       "0  Sheremetyevo International Airport  ...  4200                 12   \n",
       "1  Sheremetyevo International Airport  ...  4200                 12   \n",
       "2  Sheremetyevo International Airport  ...  4200                 12   \n",
       "3  Sheremetyevo International Airport  ...  4200                 12   \n",
       "4  Sheremetyevo International Airport  ...  4200                 12   \n",
       "\n",
       "   fare_conditions_c fare_conditions_e total_tickets_b  total_amount_b  \\\n",
       "0                NaN               118            11.0        402600.0   \n",
       "1                NaN               118            11.0        402600.0   \n",
       "2                NaN               118            10.0        366000.0   \n",
       "3                NaN               118            10.0        366000.0   \n",
       "4                NaN               118            12.0        439200.0   \n",
       "\n",
       "   total_tickets_c  total_amount_c  total_tickets_e  total_amount_e  \n",
       "0              NaN             NaN            102.0       1250400.0  \n",
       "1              NaN             NaN             98.0       1202800.0  \n",
       "2              NaN             NaN             87.0       1065000.0  \n",
       "3              NaN             NaN             97.0       1190600.0  \n",
       "4              NaN             NaN            112.0       1373600.0  \n",
       "\n",
       "[5 rows x 25 columns]"
      ]
     },
     "execution_count": 146,
     "metadata": {},
     "output_type": "execute_result"
    }
   ],
   "source": [
    "data.head(5)"
   ]
  },
  {
   "cell_type": "code",
   "execution_count": 147,
   "metadata": {},
   "outputs": [
    {
     "name": "stdout",
     "output_type": "stream",
     "text": [
      "<class 'pandas.core.frame.DataFrame'>\n",
      "RangeIndex: 193 entries, 0 to 192\n",
      "Data columns (total 25 columns):\n",
      " #   Column               Non-Null Count  Dtype  \n",
      "---  ------               --------------  -----  \n",
      " 0   flight_id            193 non-null    int64  \n",
      " 1   flight_no            193 non-null    object \n",
      " 2   scheduled_departure  193 non-null    object \n",
      " 3   scheduled_arrival    193 non-null    object \n",
      " 4   status               193 non-null    object \n",
      " 5   actual_departure     193 non-null    object \n",
      " 6   actual_arrival       193 non-null    object \n",
      " 7   duration             193 non-null    float64\n",
      " 8   airport_code         193 non-null    object \n",
      " 9   airport_name         193 non-null    object \n",
      " 10  city                 193 non-null    object \n",
      " 11  longitude            193 non-null    float64\n",
      " 12  latitude             193 non-null    float64\n",
      " 13  aircraft_code        193 non-null    object \n",
      " 14  model                193 non-null    object \n",
      " 15  range                193 non-null    int64  \n",
      " 16  fare_conditions_b    193 non-null    int64  \n",
      " 17  fare_conditions_c    0 non-null      float64\n",
      " 18  fare_conditions_e    193 non-null    int64  \n",
      " 19  total_tickets_b      180 non-null    float64\n",
      " 20  total_amount_b       180 non-null    float64\n",
      " 21  total_tickets_c      0 non-null      float64\n",
      " 22  total_amount_c       0 non-null      float64\n",
      " 23  total_tickets_e      180 non-null    float64\n",
      " 24  total_amount_e       180 non-null    float64\n",
      "dtypes: float64(10), int64(4), object(11)\n",
      "memory usage: 37.8+ KB\n"
     ]
    }
   ],
   "source": [
    "data.info()"
   ]
  },
  {
   "cell_type": "code",
   "execution_count": 148,
   "metadata": {},
   "outputs": [
    {
     "data": {
      "text/plain": [
       "0      2017-01-03T11:49:00Z\n",
       "1      2017-02-24T11:46:00Z\n",
       "2      2017-01-08T11:48:00Z\n",
       "3      2017-02-13T11:46:00Z\n",
       "4      2017-01-28T11:46:00Z\n",
       "               ...         \n",
       "188    2017-01-17T11:21:00Z\n",
       "189    2016-12-13T11:16:00Z\n",
       "190    2016-12-27T11:21:00Z\n",
       "191    2017-01-03T11:15:00Z\n",
       "192    2017-02-14T11:23:00Z\n",
       "Name: actual_arrival, Length: 193, dtype: object"
      ]
     },
     "execution_count": 148,
     "metadata": {},
     "output_type": "execute_result"
    }
   ],
   "source": [
    "data.actual_arrival"
   ]
  },
  {
   "cell_type": "code",
   "execution_count": 149,
   "metadata": {},
   "outputs": [],
   "source": [
    "# приведём время к нормальному состоянию\n",
    "\n",
    "def to_date(s):\n",
    "    s = s.replace('T', ' ')\n",
    "    s = s.replace('Z', '')\n",
    "    #return datetime.strptime(s, '%Y-%m-%dT%H:%M:%SZ')\n",
    "    return pd.to_datetime(s)\n",
    "\n",
    "\n",
    "data['scheduled_departure'] = data.apply(lambda row:\n",
    "                                         to_date(row['scheduled_departure']),\n",
    "                                         axis=1)\n",
    "data['scheduled_arrival'] = data.apply(lambda row:\n",
    "                                       to_date(row['scheduled_arrival']),\n",
    "                                       axis=1)\n",
    "data['actual_departure'] = data.apply(lambda row:\n",
    "                                      to_date(row['actual_departure']),\n",
    "                                      axis=1)\n",
    "data['actual_arrival'] = data.apply(lambda row:\n",
    "                                    to_date(row['actual_arrival']),\n",
    "                                    axis=1)\n",
    "data['year_dep'] = data['actual_departure'].dt.year\n",
    "data['month_dep'] = data['actual_departure'].dt.month\n",
    "data['weekday'] = data.actual_departure.dt.weekday"
   ]
  },
  {
   "cell_type": "markdown",
   "metadata": {},
   "source": [
    "Видим, что в классе \"комфорт\" нет ни мест (fare_conditions_c), ни купленных билетов (total_tickets_c) в данном датасете.   \n",
    "А также есть пропуски в числе приобретённых билетов, всего 13 таких строк.   \n",
    "Узнаем, что это за рейсы:"
   ]
  },
  {
   "cell_type": "code",
   "execution_count": 150,
   "metadata": {},
   "outputs": [],
   "source": [
    "# предварительно заполним все пустые значения\n",
    "def fill_null(x):\n",
    "    ''' заполним пустые значения '''\n",
    "    for i in x.columns:\n",
    "        if x[i].dtype == object:\n",
    "            x[i] = x[i].fillna('')\n",
    "        else:\n",
    "            x[i] = x[i].fillna(0)\n",
    "    return x\n",
    "\n",
    "\n",
    "data = fill_null(data)"
   ]
  },
  {
   "cell_type": "code",
   "execution_count": 151,
   "metadata": {},
   "outputs": [],
   "source": [
    "# теперь посмотрим что это за такие интересные рейсы\n",
    "data['total_tickets'] = data['total_tickets_b'] + \\\n",
    "    data['total_tickets_c'] + data['total_tickets_e']\n",
    "data['total_amount'] = data['total_amount_b'] + \\\n",
    "    data['total_amount_c'] + data['total_amount_e']"
   ]
  },
  {
   "cell_type": "code",
   "execution_count": 152,
   "metadata": {},
   "outputs": [
    {
     "data": {
      "text/html": [
       "<div>\n",
       "<style scoped>\n",
       "    .dataframe tbody tr th:only-of-type {\n",
       "        vertical-align: middle;\n",
       "    }\n",
       "\n",
       "    .dataframe tbody tr th {\n",
       "        vertical-align: top;\n",
       "    }\n",
       "\n",
       "    .dataframe thead th {\n",
       "        text-align: right;\n",
       "    }\n",
       "</style>\n",
       "<table border=\"1\" class=\"dataframe\">\n",
       "  <thead>\n",
       "    <tr style=\"text-align: right;\">\n",
       "      <th></th>\n",
       "      <th>flight_id</th>\n",
       "      <th>flight_no</th>\n",
       "      <th>scheduled_departure</th>\n",
       "      <th>scheduled_arrival</th>\n",
       "      <th>status</th>\n",
       "      <th>actual_departure</th>\n",
       "      <th>actual_arrival</th>\n",
       "      <th>duration</th>\n",
       "      <th>airport_code</th>\n",
       "      <th>airport_name</th>\n",
       "      <th>...</th>\n",
       "      <th>total_amount_b</th>\n",
       "      <th>total_tickets_c</th>\n",
       "      <th>total_amount_c</th>\n",
       "      <th>total_tickets_e</th>\n",
       "      <th>total_amount_e</th>\n",
       "      <th>year_dep</th>\n",
       "      <th>month_dep</th>\n",
       "      <th>weekday</th>\n",
       "      <th>total_tickets</th>\n",
       "      <th>total_amount</th>\n",
       "    </tr>\n",
       "  </thead>\n",
       "  <tbody>\n",
       "    <tr>\n",
       "      <th>180</th>\n",
       "      <td>136518</td>\n",
       "      <td>PG0194</td>\n",
       "      <td>2016-12-20 06:10:00</td>\n",
       "      <td>2016-12-20 11:15:00</td>\n",
       "      <td>Arrived</td>\n",
       "      <td>2016-12-20 06:13:00</td>\n",
       "      <td>2016-12-20 11:17:00</td>\n",
       "      <td>304.0</td>\n",
       "      <td>NOZ</td>\n",
       "      <td>Spichenkovo Airport</td>\n",
       "      <td>...</td>\n",
       "      <td>0.0</td>\n",
       "      <td>0.0</td>\n",
       "      <td>0.0</td>\n",
       "      <td>0.0</td>\n",
       "      <td>0.0</td>\n",
       "      <td>2016</td>\n",
       "      <td>12</td>\n",
       "      <td>1</td>\n",
       "      <td>0.0</td>\n",
       "      <td>0.0</td>\n",
       "    </tr>\n",
       "    <tr>\n",
       "      <th>181</th>\n",
       "      <td>136534</td>\n",
       "      <td>PG0194</td>\n",
       "      <td>2016-12-06 06:10:00</td>\n",
       "      <td>2016-12-06 11:15:00</td>\n",
       "      <td>Arrived</td>\n",
       "      <td>2016-12-06 06:13:00</td>\n",
       "      <td>2016-12-06 11:17:00</td>\n",
       "      <td>304.0</td>\n",
       "      <td>NOZ</td>\n",
       "      <td>Spichenkovo Airport</td>\n",
       "      <td>...</td>\n",
       "      <td>0.0</td>\n",
       "      <td>0.0</td>\n",
       "      <td>0.0</td>\n",
       "      <td>0.0</td>\n",
       "      <td>0.0</td>\n",
       "      <td>2016</td>\n",
       "      <td>12</td>\n",
       "      <td>1</td>\n",
       "      <td>0.0</td>\n",
       "      <td>0.0</td>\n",
       "    </tr>\n",
       "    <tr>\n",
       "      <th>182</th>\n",
       "      <td>136523</td>\n",
       "      <td>PG0194</td>\n",
       "      <td>2017-01-10 06:10:00</td>\n",
       "      <td>2017-01-10 11:15:00</td>\n",
       "      <td>Arrived</td>\n",
       "      <td>2017-01-10 06:14:00</td>\n",
       "      <td>2017-01-10 11:26:00</td>\n",
       "      <td>312.0</td>\n",
       "      <td>NOZ</td>\n",
       "      <td>Spichenkovo Airport</td>\n",
       "      <td>...</td>\n",
       "      <td>0.0</td>\n",
       "      <td>0.0</td>\n",
       "      <td>0.0</td>\n",
       "      <td>0.0</td>\n",
       "      <td>0.0</td>\n",
       "      <td>2017</td>\n",
       "      <td>1</td>\n",
       "      <td>1</td>\n",
       "      <td>0.0</td>\n",
       "      <td>0.0</td>\n",
       "    </tr>\n",
       "    <tr>\n",
       "      <th>183</th>\n",
       "      <td>136513</td>\n",
       "      <td>PG0194</td>\n",
       "      <td>2017-02-28 06:10:00</td>\n",
       "      <td>2017-02-28 11:15:00</td>\n",
       "      <td>Arrived</td>\n",
       "      <td>2017-02-28 06:13:00</td>\n",
       "      <td>2017-02-28 11:23:00</td>\n",
       "      <td>310.0</td>\n",
       "      <td>NOZ</td>\n",
       "      <td>Spichenkovo Airport</td>\n",
       "      <td>...</td>\n",
       "      <td>0.0</td>\n",
       "      <td>0.0</td>\n",
       "      <td>0.0</td>\n",
       "      <td>0.0</td>\n",
       "      <td>0.0</td>\n",
       "      <td>2017</td>\n",
       "      <td>2</td>\n",
       "      <td>1</td>\n",
       "      <td>0.0</td>\n",
       "      <td>0.0</td>\n",
       "    </tr>\n",
       "    <tr>\n",
       "      <th>184</th>\n",
       "      <td>136514</td>\n",
       "      <td>PG0194</td>\n",
       "      <td>2017-02-07 06:10:00</td>\n",
       "      <td>2017-02-07 11:15:00</td>\n",
       "      <td>Arrived</td>\n",
       "      <td>2017-02-07 06:14:00</td>\n",
       "      <td>2017-02-07 11:13:00</td>\n",
       "      <td>299.0</td>\n",
       "      <td>NOZ</td>\n",
       "      <td>Spichenkovo Airport</td>\n",
       "      <td>...</td>\n",
       "      <td>0.0</td>\n",
       "      <td>0.0</td>\n",
       "      <td>0.0</td>\n",
       "      <td>0.0</td>\n",
       "      <td>0.0</td>\n",
       "      <td>2017</td>\n",
       "      <td>2</td>\n",
       "      <td>1</td>\n",
       "      <td>0.0</td>\n",
       "      <td>0.0</td>\n",
       "    </tr>\n",
       "    <tr>\n",
       "      <th>185</th>\n",
       "      <td>136560</td>\n",
       "      <td>PG0194</td>\n",
       "      <td>2017-01-24 06:10:00</td>\n",
       "      <td>2017-01-24 11:15:00</td>\n",
       "      <td>Arrived</td>\n",
       "      <td>2017-01-24 06:13:00</td>\n",
       "      <td>2017-01-24 11:18:00</td>\n",
       "      <td>305.0</td>\n",
       "      <td>NOZ</td>\n",
       "      <td>Spichenkovo Airport</td>\n",
       "      <td>...</td>\n",
       "      <td>0.0</td>\n",
       "      <td>0.0</td>\n",
       "      <td>0.0</td>\n",
       "      <td>0.0</td>\n",
       "      <td>0.0</td>\n",
       "      <td>2017</td>\n",
       "      <td>1</td>\n",
       "      <td>1</td>\n",
       "      <td>0.0</td>\n",
       "      <td>0.0</td>\n",
       "    </tr>\n",
       "    <tr>\n",
       "      <th>186</th>\n",
       "      <td>136544</td>\n",
       "      <td>PG0194</td>\n",
       "      <td>2017-01-31 06:10:00</td>\n",
       "      <td>2017-01-31 11:15:00</td>\n",
       "      <td>Arrived</td>\n",
       "      <td>2017-01-31 06:10:00</td>\n",
       "      <td>2017-01-31 11:14:00</td>\n",
       "      <td>304.0</td>\n",
       "      <td>NOZ</td>\n",
       "      <td>Spichenkovo Airport</td>\n",
       "      <td>...</td>\n",
       "      <td>0.0</td>\n",
       "      <td>0.0</td>\n",
       "      <td>0.0</td>\n",
       "      <td>0.0</td>\n",
       "      <td>0.0</td>\n",
       "      <td>2017</td>\n",
       "      <td>1</td>\n",
       "      <td>1</td>\n",
       "      <td>0.0</td>\n",
       "      <td>0.0</td>\n",
       "    </tr>\n",
       "    <tr>\n",
       "      <th>187</th>\n",
       "      <td>136511</td>\n",
       "      <td>PG0194</td>\n",
       "      <td>2017-02-21 06:10:00</td>\n",
       "      <td>2017-02-21 11:15:00</td>\n",
       "      <td>Arrived</td>\n",
       "      <td>2017-02-21 06:15:00</td>\n",
       "      <td>2017-02-21 11:25:00</td>\n",
       "      <td>310.0</td>\n",
       "      <td>NOZ</td>\n",
       "      <td>Spichenkovo Airport</td>\n",
       "      <td>...</td>\n",
       "      <td>0.0</td>\n",
       "      <td>0.0</td>\n",
       "      <td>0.0</td>\n",
       "      <td>0.0</td>\n",
       "      <td>0.0</td>\n",
       "      <td>2017</td>\n",
       "      <td>2</td>\n",
       "      <td>1</td>\n",
       "      <td>0.0</td>\n",
       "      <td>0.0</td>\n",
       "    </tr>\n",
       "    <tr>\n",
       "      <th>188</th>\n",
       "      <td>136540</td>\n",
       "      <td>PG0194</td>\n",
       "      <td>2017-01-17 06:10:00</td>\n",
       "      <td>2017-01-17 11:15:00</td>\n",
       "      <td>Arrived</td>\n",
       "      <td>2017-01-17 06:14:00</td>\n",
       "      <td>2017-01-17 11:21:00</td>\n",
       "      <td>307.0</td>\n",
       "      <td>NOZ</td>\n",
       "      <td>Spichenkovo Airport</td>\n",
       "      <td>...</td>\n",
       "      <td>0.0</td>\n",
       "      <td>0.0</td>\n",
       "      <td>0.0</td>\n",
       "      <td>0.0</td>\n",
       "      <td>0.0</td>\n",
       "      <td>2017</td>\n",
       "      <td>1</td>\n",
       "      <td>1</td>\n",
       "      <td>0.0</td>\n",
       "      <td>0.0</td>\n",
       "    </tr>\n",
       "    <tr>\n",
       "      <th>189</th>\n",
       "      <td>136533</td>\n",
       "      <td>PG0194</td>\n",
       "      <td>2016-12-13 06:10:00</td>\n",
       "      <td>2016-12-13 11:15:00</td>\n",
       "      <td>Arrived</td>\n",
       "      <td>2016-12-13 06:13:00</td>\n",
       "      <td>2016-12-13 11:16:00</td>\n",
       "      <td>303.0</td>\n",
       "      <td>NOZ</td>\n",
       "      <td>Spichenkovo Airport</td>\n",
       "      <td>...</td>\n",
       "      <td>0.0</td>\n",
       "      <td>0.0</td>\n",
       "      <td>0.0</td>\n",
       "      <td>0.0</td>\n",
       "      <td>0.0</td>\n",
       "      <td>2016</td>\n",
       "      <td>12</td>\n",
       "      <td>1</td>\n",
       "      <td>0.0</td>\n",
       "      <td>0.0</td>\n",
       "    </tr>\n",
       "    <tr>\n",
       "      <th>190</th>\n",
       "      <td>136564</td>\n",
       "      <td>PG0194</td>\n",
       "      <td>2016-12-27 06:10:00</td>\n",
       "      <td>2016-12-27 11:15:00</td>\n",
       "      <td>Arrived</td>\n",
       "      <td>2016-12-27 06:16:00</td>\n",
       "      <td>2016-12-27 11:21:00</td>\n",
       "      <td>305.0</td>\n",
       "      <td>NOZ</td>\n",
       "      <td>Spichenkovo Airport</td>\n",
       "      <td>...</td>\n",
       "      <td>0.0</td>\n",
       "      <td>0.0</td>\n",
       "      <td>0.0</td>\n",
       "      <td>0.0</td>\n",
       "      <td>0.0</td>\n",
       "      <td>2016</td>\n",
       "      <td>12</td>\n",
       "      <td>1</td>\n",
       "      <td>0.0</td>\n",
       "      <td>0.0</td>\n",
       "    </tr>\n",
       "    <tr>\n",
       "      <th>191</th>\n",
       "      <td>136546</td>\n",
       "      <td>PG0194</td>\n",
       "      <td>2017-01-03 06:10:00</td>\n",
       "      <td>2017-01-03 11:15:00</td>\n",
       "      <td>Arrived</td>\n",
       "      <td>2017-01-03 06:13:00</td>\n",
       "      <td>2017-01-03 11:15:00</td>\n",
       "      <td>302.0</td>\n",
       "      <td>NOZ</td>\n",
       "      <td>Spichenkovo Airport</td>\n",
       "      <td>...</td>\n",
       "      <td>0.0</td>\n",
       "      <td>0.0</td>\n",
       "      <td>0.0</td>\n",
       "      <td>0.0</td>\n",
       "      <td>0.0</td>\n",
       "      <td>2017</td>\n",
       "      <td>1</td>\n",
       "      <td>1</td>\n",
       "      <td>0.0</td>\n",
       "      <td>0.0</td>\n",
       "    </tr>\n",
       "    <tr>\n",
       "      <th>192</th>\n",
       "      <td>136567</td>\n",
       "      <td>PG0194</td>\n",
       "      <td>2017-02-14 06:10:00</td>\n",
       "      <td>2017-02-14 11:15:00</td>\n",
       "      <td>Arrived</td>\n",
       "      <td>2017-02-14 06:12:00</td>\n",
       "      <td>2017-02-14 11:23:00</td>\n",
       "      <td>311.0</td>\n",
       "      <td>NOZ</td>\n",
       "      <td>Spichenkovo Airport</td>\n",
       "      <td>...</td>\n",
       "      <td>0.0</td>\n",
       "      <td>0.0</td>\n",
       "      <td>0.0</td>\n",
       "      <td>0.0</td>\n",
       "      <td>0.0</td>\n",
       "      <td>2017</td>\n",
       "      <td>2</td>\n",
       "      <td>1</td>\n",
       "      <td>0.0</td>\n",
       "      <td>0.0</td>\n",
       "    </tr>\n",
       "  </tbody>\n",
       "</table>\n",
       "<p>13 rows × 30 columns</p>\n",
       "</div>"
      ],
      "text/plain": [
       "     flight_id flight_no scheduled_departure   scheduled_arrival   status  \\\n",
       "180     136518    PG0194 2016-12-20 06:10:00 2016-12-20 11:15:00  Arrived   \n",
       "181     136534    PG0194 2016-12-06 06:10:00 2016-12-06 11:15:00  Arrived   \n",
       "182     136523    PG0194 2017-01-10 06:10:00 2017-01-10 11:15:00  Arrived   \n",
       "183     136513    PG0194 2017-02-28 06:10:00 2017-02-28 11:15:00  Arrived   \n",
       "184     136514    PG0194 2017-02-07 06:10:00 2017-02-07 11:15:00  Arrived   \n",
       "185     136560    PG0194 2017-01-24 06:10:00 2017-01-24 11:15:00  Arrived   \n",
       "186     136544    PG0194 2017-01-31 06:10:00 2017-01-31 11:15:00  Arrived   \n",
       "187     136511    PG0194 2017-02-21 06:10:00 2017-02-21 11:15:00  Arrived   \n",
       "188     136540    PG0194 2017-01-17 06:10:00 2017-01-17 11:15:00  Arrived   \n",
       "189     136533    PG0194 2016-12-13 06:10:00 2016-12-13 11:15:00  Arrived   \n",
       "190     136564    PG0194 2016-12-27 06:10:00 2016-12-27 11:15:00  Arrived   \n",
       "191     136546    PG0194 2017-01-03 06:10:00 2017-01-03 11:15:00  Arrived   \n",
       "192     136567    PG0194 2017-02-14 06:10:00 2017-02-14 11:15:00  Arrived   \n",
       "\n",
       "       actual_departure      actual_arrival  duration airport_code  \\\n",
       "180 2016-12-20 06:13:00 2016-12-20 11:17:00     304.0          NOZ   \n",
       "181 2016-12-06 06:13:00 2016-12-06 11:17:00     304.0          NOZ   \n",
       "182 2017-01-10 06:14:00 2017-01-10 11:26:00     312.0          NOZ   \n",
       "183 2017-02-28 06:13:00 2017-02-28 11:23:00     310.0          NOZ   \n",
       "184 2017-02-07 06:14:00 2017-02-07 11:13:00     299.0          NOZ   \n",
       "185 2017-01-24 06:13:00 2017-01-24 11:18:00     305.0          NOZ   \n",
       "186 2017-01-31 06:10:00 2017-01-31 11:14:00     304.0          NOZ   \n",
       "187 2017-02-21 06:15:00 2017-02-21 11:25:00     310.0          NOZ   \n",
       "188 2017-01-17 06:14:00 2017-01-17 11:21:00     307.0          NOZ   \n",
       "189 2016-12-13 06:13:00 2016-12-13 11:16:00     303.0          NOZ   \n",
       "190 2016-12-27 06:16:00 2016-12-27 11:21:00     305.0          NOZ   \n",
       "191 2017-01-03 06:13:00 2017-01-03 11:15:00     302.0          NOZ   \n",
       "192 2017-02-14 06:12:00 2017-02-14 11:23:00     311.0          NOZ   \n",
       "\n",
       "            airport_name  ... total_amount_b  total_tickets_c  total_amount_c  \\\n",
       "180  Spichenkovo Airport  ...            0.0              0.0             0.0   \n",
       "181  Spichenkovo Airport  ...            0.0              0.0             0.0   \n",
       "182  Spichenkovo Airport  ...            0.0              0.0             0.0   \n",
       "183  Spichenkovo Airport  ...            0.0              0.0             0.0   \n",
       "184  Spichenkovo Airport  ...            0.0              0.0             0.0   \n",
       "185  Spichenkovo Airport  ...            0.0              0.0             0.0   \n",
       "186  Spichenkovo Airport  ...            0.0              0.0             0.0   \n",
       "187  Spichenkovo Airport  ...            0.0              0.0             0.0   \n",
       "188  Spichenkovo Airport  ...            0.0              0.0             0.0   \n",
       "189  Spichenkovo Airport  ...            0.0              0.0             0.0   \n",
       "190  Spichenkovo Airport  ...            0.0              0.0             0.0   \n",
       "191  Spichenkovo Airport  ...            0.0              0.0             0.0   \n",
       "192  Spichenkovo Airport  ...            0.0              0.0             0.0   \n",
       "\n",
       "    total_tickets_e total_amount_e  year_dep  month_dep  weekday  \\\n",
       "180             0.0            0.0      2016         12        1   \n",
       "181             0.0            0.0      2016         12        1   \n",
       "182             0.0            0.0      2017          1        1   \n",
       "183             0.0            0.0      2017          2        1   \n",
       "184             0.0            0.0      2017          2        1   \n",
       "185             0.0            0.0      2017          1        1   \n",
       "186             0.0            0.0      2017          1        1   \n",
       "187             0.0            0.0      2017          2        1   \n",
       "188             0.0            0.0      2017          1        1   \n",
       "189             0.0            0.0      2016         12        1   \n",
       "190             0.0            0.0      2016         12        1   \n",
       "191             0.0            0.0      2017          1        1   \n",
       "192             0.0            0.0      2017          2        1   \n",
       "\n",
       "     total_tickets  total_amount  \n",
       "180            0.0           0.0  \n",
       "181            0.0           0.0  \n",
       "182            0.0           0.0  \n",
       "183            0.0           0.0  \n",
       "184            0.0           0.0  \n",
       "185            0.0           0.0  \n",
       "186            0.0           0.0  \n",
       "187            0.0           0.0  \n",
       "188            0.0           0.0  \n",
       "189            0.0           0.0  \n",
       "190            0.0           0.0  \n",
       "191            0.0           0.0  \n",
       "192            0.0           0.0  \n",
       "\n",
       "[13 rows x 30 columns]"
      ]
     },
     "execution_count": 152,
     "metadata": {},
     "output_type": "execute_result"
    }
   ],
   "source": [
    "data[data.total_tickets == 0]"
   ]
  },
  {
   "cell_type": "markdown",
   "metadata": {},
   "source": [
    "Все эти рейсы направлялись в Новокузнецк в аэропорт NOZ   \n",
    "**Аэропорт Спиченково** — _международный_ аэропорт федерального значения города Новокузнецка.   \n",
    "Поэтому будем считать, что эти рейсы зафрахтованы на так называемые \"чартеры\" за границу и прибыльны."
   ]
  },
  {
   "cell_type": "code",
   "execution_count": 153,
   "metadata": {},
   "outputs": [],
   "source": [
    "# исключим эти рейсы из датасета\n",
    "data = data[data.total_tickets != 0]"
   ]
  },
  {
   "cell_type": "code",
   "execution_count": 154,
   "metadata": {},
   "outputs": [
    {
     "name": "stdout",
     "output_type": "stream",
     "text": [
      "<class 'pandas.core.frame.DataFrame'>\n",
      "Int64Index: 180 entries, 0 to 179\n",
      "Data columns (total 30 columns):\n",
      " #   Column               Non-Null Count  Dtype         \n",
      "---  ------               --------------  -----         \n",
      " 0   flight_id            180 non-null    int64         \n",
      " 1   flight_no            180 non-null    object        \n",
      " 2   scheduled_departure  180 non-null    datetime64[ns]\n",
      " 3   scheduled_arrival    180 non-null    datetime64[ns]\n",
      " 4   status               180 non-null    object        \n",
      " 5   actual_departure     180 non-null    datetime64[ns]\n",
      " 6   actual_arrival       180 non-null    datetime64[ns]\n",
      " 7   duration             180 non-null    float64       \n",
      " 8   airport_code         180 non-null    object        \n",
      " 9   airport_name         180 non-null    object        \n",
      " 10  city                 180 non-null    object        \n",
      " 11  longitude            180 non-null    float64       \n",
      " 12  latitude             180 non-null    float64       \n",
      " 13  aircraft_code        180 non-null    object        \n",
      " 14  model                180 non-null    object        \n",
      " 15  range                180 non-null    int64         \n",
      " 16  fare_conditions_b    180 non-null    int64         \n",
      " 17  fare_conditions_c    180 non-null    float64       \n",
      " 18  fare_conditions_e    180 non-null    int64         \n",
      " 19  total_tickets_b      180 non-null    float64       \n",
      " 20  total_amount_b       180 non-null    float64       \n",
      " 21  total_tickets_c      180 non-null    float64       \n",
      " 22  total_amount_c       180 non-null    float64       \n",
      " 23  total_tickets_e      180 non-null    float64       \n",
      " 24  total_amount_e       180 non-null    float64       \n",
      " 25  year_dep             180 non-null    int64         \n",
      " 26  month_dep            180 non-null    int64         \n",
      " 27  weekday              180 non-null    int64         \n",
      " 28  total_tickets        180 non-null    float64       \n",
      " 29  total_amount         180 non-null    float64       \n",
      "dtypes: datetime64[ns](4), float64(12), int64(7), object(7)\n",
      "memory usage: 43.6+ KB\n"
     ]
    }
   ],
   "source": [
    "data.info()"
   ]
  },
  {
   "cell_type": "code",
   "execution_count": 155,
   "metadata": {},
   "outputs": [],
   "source": [
    "# ранее было выявлено, что в данном датасете нет класса \"Комфорт\" поэтому избавимся от ненужных столбцов\n",
    "data.drop(['fare_conditions_c'], inplace=True, axis=1)\n",
    "data.drop(['total_tickets_c'], inplace=True, axis=1)\n",
    "data.drop(['total_amount_c'], inplace=True, axis=1)"
   ]
  },
  {
   "cell_type": "markdown",
   "metadata": {},
   "source": [
    "### дополним датасет"
   ]
  },
  {
   "cell_type": "code",
   "execution_count": 156,
   "metadata": {},
   "outputs": [],
   "source": [
    "# расчитаем расстояние от Анапы до аэропорта назначения\n",
    "# координаты аэропорта Анапы долгота:37.35 широта:45\n",
    "anapa = (37.35, 45.0)\n",
    "\n",
    "\n",
    "def getdistance(lon, lat):\n",
    "    city = (lon, lat)\n",
    "    return geodesic(anapa, city).km\n",
    "\n",
    "\n",
    "data['distance'] = data.apply(lambda row:\n",
    "                              getdistance(lon=row['longitude'],\n",
    "                                          lat=row['latitude']),\n",
    "                              axis=1)"
   ]
  },
  {
   "cell_type": "code",
   "execution_count": 157,
   "metadata": {},
   "outputs": [],
   "source": [
    "# посчитаем скорость рейса (время включает рулёжку и сам полёт)\n",
    "def getspeed(d, t):\n",
    "    return d/t\n",
    "\n",
    "\n",
    "data['speed'] = data.apply(lambda row:\n",
    "                           getspeed(row['distance'],\n",
    "                                    row['duration']),\n",
    "                           axis=1)"
   ]
  },
  {
   "cell_type": "code",
   "execution_count": 158,
   "metadata": {},
   "outputs": [],
   "source": [
    "# рассчитаем расход на топливо\n",
    "# данные взяты с сайта https://favt.gov.ru/dejatelnost-ajeroporty-i-ajerodromy-ceny-na-aviagsm?id=7329\n",
    "# и https://vpolete.online/pereletyi/rashod-topliva-raznyih-samoletov.html#i-2\n",
    "def fuel_consumption(m):\n",
    "    '''возвращаем расход топлива в кг за минуту'''\n",
    "    if m == '733':  # Boeing 737-300\n",
    "        return 2400/60  # 2,4 тыс. кг/ч;\n",
    "    elif m == 'SU9':  # Sukhoi Superjet-100\n",
    "        return 1700/60  # 1,7 тыс. кг/ч;\n",
    "    else:\n",
    "        return -1\n",
    "\n",
    "\n",
    "def get_expence(y, m, model, duration):\n",
    "    '''возвращаем затраты на топливо\n",
    "    в зависимости от месяца, модели и времени рейса'''\n",
    "    if y == 2016 and m == 12:\n",
    "        price = 38.867\n",
    "    elif y == 2017 and m == 1:\n",
    "        price = 41.435\n",
    "    elif y == 2017 and m == 2:\n",
    "        price = 39.553\n",
    "    elif y == 2017 and m == 12:\n",
    "        price = 47101\n",
    "    else:\n",
    "        price = -1\n",
    "    return price * fuel_consumption(model) * duration\n",
    "\n",
    "\n",
    "data['expense'] = data.apply(lambda row:\n",
    "                             get_expence(y=row['year_dep'],\n",
    "                                         m=row['month_dep'],\n",
    "                                         model=row['aircraft_code'],\n",
    "                                         duration=row['duration']),\n",
    "                             axis=1)"
   ]
  },
  {
   "cell_type": "code",
   "execution_count": 159,
   "metadata": {},
   "outputs": [],
   "source": [
    "# посчитаем маржу\n",
    "data['margin'] = data['total_amount'] - data['expense']"
   ]
  },
  {
   "cell_type": "code",
   "execution_count": 160,
   "metadata": {},
   "outputs": [],
   "source": [
    "# посчитаем процент заполненности салона\n",
    "data['filling'] = data['total_tickets'] * 100 / \\\n",
    "    (data['fare_conditions_b'] + data['fare_conditions_e'])"
   ]
  },
  {
   "cell_type": "code",
   "execution_count": 161,
   "metadata": {},
   "outputs": [],
   "source": [
    "# посчитаем соотношение бизнес и эконом класса\n",
    "data['bsns_to_ecnmy'] = data['fare_conditions_b'] / \\\n",
    "    data['fare_conditions_e'] * 100\n",
    "data['bsns_to_ecnmy_tickets'] = data['total_tickets_b'] / \\\n",
    "    data['total_tickets_e'] * 100"
   ]
  },
  {
   "cell_type": "code",
   "execution_count": 162,
   "metadata": {},
   "outputs": [
    {
     "name": "stdout",
     "output_type": "stream",
     "text": [
      "<class 'pandas.core.frame.DataFrame'>\n",
      "Int64Index: 180 entries, 0 to 179\n",
      "Data columns (total 34 columns):\n",
      " #   Column                 Non-Null Count  Dtype         \n",
      "---  ------                 --------------  -----         \n",
      " 0   flight_id              180 non-null    int64         \n",
      " 1   flight_no              180 non-null    object        \n",
      " 2   scheduled_departure    180 non-null    datetime64[ns]\n",
      " 3   scheduled_arrival      180 non-null    datetime64[ns]\n",
      " 4   status                 180 non-null    object        \n",
      " 5   actual_departure       180 non-null    datetime64[ns]\n",
      " 6   actual_arrival         180 non-null    datetime64[ns]\n",
      " 7   duration               180 non-null    float64       \n",
      " 8   airport_code           180 non-null    object        \n",
      " 9   airport_name           180 non-null    object        \n",
      " 10  city                   180 non-null    object        \n",
      " 11  longitude              180 non-null    float64       \n",
      " 12  latitude               180 non-null    float64       \n",
      " 13  aircraft_code          180 non-null    object        \n",
      " 14  model                  180 non-null    object        \n",
      " 15  range                  180 non-null    int64         \n",
      " 16  fare_conditions_b      180 non-null    int64         \n",
      " 17  fare_conditions_e      180 non-null    int64         \n",
      " 18  total_tickets_b        180 non-null    float64       \n",
      " 19  total_amount_b         180 non-null    float64       \n",
      " 20  total_tickets_e        180 non-null    float64       \n",
      " 21  total_amount_e         180 non-null    float64       \n",
      " 22  year_dep               180 non-null    int64         \n",
      " 23  month_dep              180 non-null    int64         \n",
      " 24  weekday                180 non-null    int64         \n",
      " 25  total_tickets          180 non-null    float64       \n",
      " 26  total_amount           180 non-null    float64       \n",
      " 27  distance               180 non-null    float64       \n",
      " 28  speed                  180 non-null    float64       \n",
      " 29  expense                180 non-null    float64       \n",
      " 30  margin                 180 non-null    float64       \n",
      " 31  filling                180 non-null    float64       \n",
      " 32  bsns_to_ecnmy          180 non-null    float64       \n",
      " 33  bsns_to_ecnmy_tickets  180 non-null    float64       \n",
      "dtypes: datetime64[ns](4), float64(16), int64(7), object(7)\n",
      "memory usage: 49.2+ KB\n"
     ]
    }
   ],
   "source": [
    "data.info()"
   ]
  },
  {
   "cell_type": "code",
   "execution_count": 163,
   "metadata": {},
   "outputs": [
    {
     "data": {
      "text/plain": [
       "array(['SVO', 'EGO'], dtype=object)"
      ]
     },
     "metadata": {},
     "output_type": "display_data"
    },
    {
     "data": {
      "text/plain": [
       "array(['PG0252', 'PG0480'], dtype=object)"
      ]
     },
     "metadata": {},
     "output_type": "display_data"
    }
   ],
   "source": [
    "display(data.airport_code.unique())\n",
    "display(data.flight_no.unique())"
   ]
  },
  {
   "cell_type": "markdown",
   "metadata": {},
   "source": [
    "получается, что в исследуемом датасете только два направления   \n",
    "Москва и Белгород"
   ]
  },
  {
   "cell_type": "code",
   "execution_count": 164,
   "metadata": {},
   "outputs": [],
   "source": [
    "# направление - Москва\n",
    "df = data[data.flight_no == 'PG0252']"
   ]
  },
  {
   "cell_type": "code",
   "execution_count": 165,
   "metadata": {},
   "outputs": [
    {
     "data": {
      "text/plain": [
       "<AxesSubplot:>"
      ]
     },
     "execution_count": 165,
     "metadata": {},
     "output_type": "execute_result"
    },
    {
     "data": {
      "image/png": "[encoded data removed]",
      "text/plain": [
       "<Figure size 432x288 with 1 Axes>"
      ]
     },
     "metadata": {
      "needs_background": "light"
     },
     "output_type": "display_data"
    }
   ],
   "source": [
    "df.margin.hist(bins=100)"
   ]
  },
  {
   "cell_type": "code",
   "execution_count": 166,
   "metadata": {},
   "outputs": [
    {
     "data": {
      "text/plain": [
       "<AxesSubplot:>"
      ]
     },
     "execution_count": 166,
     "metadata": {},
     "output_type": "execute_result"
    },
    {
     "data": {
      "image/png": "[encoded data removed]",
      "text/plain": [
       "<Figure size 432x288 with 1 Axes>"
      ]
     },
     "metadata": {
      "needs_background": "light"
     },
     "output_type": "display_data"
    }
   ],
   "source": [
    "df[df.month_dep == 12].margin.hist(bins=31)"
   ]
  },
  {
   "cell_type": "code",
   "execution_count": 167,
   "metadata": {},
   "outputs": [
    {
     "data": {
      "text/plain": [
       "<AxesSubplot:>"
      ]
     },
     "execution_count": 167,
     "metadata": {},
     "output_type": "execute_result"
    },
    {
     "data": {
      "image/png": "[encoded data removed]",
      "text/plain": [
       "<Figure size 432x288 with 1 Axes>"
      ]
     },
     "metadata": {
      "needs_background": "light"
     },
     "output_type": "display_data"
    }
   ],
   "source": [
    "df[df.month_dep == 1].margin.hist(bins=31)"
   ]
  },
  {
   "cell_type": "code",
   "execution_count": 168,
   "metadata": {},
   "outputs": [
    {
     "data": {
      "text/plain": [
       "<AxesSubplot:>"
      ]
     },
     "execution_count": 168,
     "metadata": {},
     "output_type": "execute_result"
    },
    {
     "data": {
      "image/png": "[encoded data removed]",
      "text/plain": [
       "<Figure size 432x288 with 1 Axes>"
      ]
     },
     "metadata": {
      "needs_background": "light"
     },
     "output_type": "display_data"
    }
   ],
   "source": [
    "df[df.month_dep == 2].margin.hist(bins=31)"
   ]
  },
  {
   "cell_type": "markdown",
   "metadata": {},
   "source": [
    "исследуем дни недели в которые была прибыль ниже первого квантиля"
   ]
  },
  {
   "cell_type": "code",
   "execution_count": 169,
   "metadata": {},
   "outputs": [
    {
     "name": "stdout",
     "output_type": "stream",
     "text": [
      "мин. маржа \n"
     ]
    },
    {
     "data": {
      "text/plain": [
       "6    6\n",
       "5    4\n",
       "3    4\n",
       "2    4\n",
       "1    2\n",
       "0    2\n",
       "4    1\n",
       "Name: weekday, dtype: int64"
      ]
     },
     "metadata": {},
     "output_type": "display_data"
    }
   ],
   "source": [
    "df_min = df[df.margin < df.margin.quantile(0.25)]\n",
    "print('мин. маржа ')\n",
    "display(df_min.weekday.value_counts())"
   ]
  },
  {
   "cell_type": "code",
   "execution_count": 170,
   "metadata": {},
   "outputs": [
    {
     "name": "stdout",
     "output_type": "stream",
     "text": [
      "декабрь 2016\n",
      "мин. маржа \n"
     ]
    },
    {
     "data": {
      "text/plain": [
       "5    3\n",
       "6    2\n",
       "3    1\n",
       "2    1\n",
       "1    1\n",
       "Name: weekday, dtype: int64"
      ]
     },
     "metadata": {},
     "output_type": "display_data"
    }
   ],
   "source": [
    "df_min = df.query('margin < margin.quantile(0.25) & month_dep == 12')\n",
    "print('декабрь 2016')\n",
    "print('мин. маржа ')\n",
    "display(df_min.weekday.value_counts())"
   ]
  },
  {
   "cell_type": "code",
   "execution_count": 171,
   "metadata": {},
   "outputs": [
    {
     "name": "stdout",
     "output_type": "stream",
     "text": [
      "январь 2017\n",
      "мин. маржа \n"
     ]
    },
    {
     "data": {
      "text/plain": [
       "6    3\n",
       "2    2\n",
       "0    2\n",
       "5    1\n",
       "4    1\n",
       "3    1\n",
       "1    1\n",
       "Name: weekday, dtype: int64"
      ]
     },
     "metadata": {},
     "output_type": "display_data"
    }
   ],
   "source": [
    "df_min = df.query('margin < margin.quantile(0.25) & month_dep == 1')\n",
    "print('январь 2017')\n",
    "print('мин. маржа ')\n",
    "display(df_min.weekday.value_counts())"
   ]
  },
  {
   "cell_type": "code",
   "execution_count": 172,
   "metadata": {},
   "outputs": [
    {
     "name": "stdout",
     "output_type": "stream",
     "text": [
      "февраль 2017\n",
      "мин. маржа \n"
     ]
    },
    {
     "data": {
      "text/plain": [
       "3    2\n",
       "2    1\n",
       "6    1\n",
       "Name: weekday, dtype: int64"
      ]
     },
     "metadata": {},
     "output_type": "display_data"
    }
   ],
   "source": [
    "df_min = df.query('margin < margin.quantile(0.25) & month_dep == 2')\n",
    "print('февраль 2017')\n",
    "print('мин. маржа ')\n",
    "display(df_min.weekday.value_counts())"
   ]
  },
  {
   "cell_type": "code",
   "execution_count": 173,
   "metadata": {},
   "outputs": [
    {
     "data": {
      "text/plain": [
       "array([1, 4, 6, 0, 5, 2, 3], dtype=int64)"
      ]
     },
     "execution_count": 173,
     "metadata": {},
     "output_type": "execute_result"
    }
   ],
   "source": [
    "df.weekday.unique()"
   ]
  },
  {
   "cell_type": "markdown",
   "metadata": {},
   "source": [
    "для сравнения возьмем рейсы в дни, когда маржа была больше 3 квантиля"
   ]
  },
  {
   "cell_type": "code",
   "execution_count": 174,
   "metadata": {},
   "outputs": [
    {
     "name": "stdout",
     "output_type": "stream",
     "text": [
      "макс. маржа \n"
     ]
    },
    {
     "data": {
      "text/plain": [
       "4    7\n",
       "3    5\n",
       "0    4\n",
       "1    3\n",
       "5    2\n",
       "2    2\n",
       "Name: weekday, dtype: int64"
      ]
     },
     "metadata": {},
     "output_type": "display_data"
    }
   ],
   "source": [
    "df_max = df[df.margin >= df.margin.quantile(0.75)]\n",
    "print('макс. маржа ')\n",
    "display(df_max.weekday.value_counts())"
   ]
  },
  {
   "cell_type": "markdown",
   "metadata": {},
   "source": [
    "возьмём среду как наименьшее"
   ]
  },
  {
   "cell_type": "markdown",
   "metadata": {},
   "source": [
    "посмотрим отличается ли средняя цена билетов между этими рейсами"
   ]
  },
  {
   "cell_type": "code",
   "execution_count": 175,
   "metadata": {},
   "outputs": [
    {
     "name": "stdout",
     "output_type": "stream",
     "text": [
      "Бизнес в воскресенье\n",
      " 36600.0\n",
      "Бизнес в среду\n",
      " 36600.0\n",
      "Эконом в воскресенье\n",
      " 12250.457038391225\n",
      "Эконом в среду\n",
      " 12261.802575107296\n"
     ]
    }
   ],
   "source": [
    "avg_min_b = df.query('margin<margin.quantile(0.25) & weekday==6').total_amount_b.sum() / \\\n",
    "    df.query('margin<margin.quantile(0.25) & weekday==6').total_tickets_b.sum()\n",
    "avg_max_b = df.query('margin>=margin.quantile(0.75) & weekday==2').total_amount_b.sum() / \\\n",
    "    df.query('margin>=margin.quantile(0.75) & weekday==2').total_tickets_b.sum()\n",
    "avg_min_e = df.query('margin<margin.quantile(0.25) & weekday==6').total_amount_e.sum() / \\\n",
    "    df.query('margin<margin.quantile(0.25) & weekday==6').total_tickets_e.sum()\n",
    "avg_max_e = df.query('margin>=margin.quantile(0.75) & weekday==2').total_amount_e.sum() / \\\n",
    "    df.query('margin>=margin.quantile(0.75) & weekday==2').total_tickets_e.sum()\n",
    "print(\"Бизнес в воскресенье\\n\", avg_min_b)\n",
    "print(\"Бизнес в среду\\n\", avg_max_b)\n",
    "print(\"Эконом в воскресенье\\n\", avg_min_e)\n",
    "print(\"Эконом в среду\\n\", avg_max_e)"
   ]
  },
  {
   "cell_type": "markdown",
   "metadata": {},
   "source": [
    "цена не отличается"
   ]
  },
  {
   "cell_type": "code",
   "execution_count": 176,
   "metadata": {},
   "outputs": [
    {
     "name": "stdout",
     "output_type": "stream",
     "text": [
      "в понедельник 79.23076923076923\n",
      "во вторник 80.76923076923077\n",
      "в среду 77.88461538461539\n",
      "в четверг 80.1923076923077\n",
      "в пятницу 81.53846153846153\n",
      "в субботу 75.57692307692308\n",
      "в воскресенье 77.3076923076923\n",
      "во все дни 87.26495726495727\n"
     ]
    }
   ],
   "source": [
    "# заполненность рейсов\n",
    "print(\"в понедельник\", df.query(\n",
    "    'margin<margin.quantile(0.25) & weekday==0').filling.mean())\n",
    "print(\"во вторник\", df.query(\n",
    "    'margin<margin.quantile(0.25) & weekday==1').filling.mean())\n",
    "print(\"в среду\", df.query('margin<margin.quantile(0.25) & weekday==2').filling.mean())\n",
    "print(\"в четверг\", df.query(\n",
    "    'margin<margin.quantile(0.25) & weekday==3').filling.mean())\n",
    "print(\"в пятницу\", df.query(\n",
    "    'margin<margin.quantile(0.25) & weekday==4').filling.mean())\n",
    "print(\"в субботу\", df.query(\n",
    "    'margin<margin.quantile(0.25) & weekday==5').filling.mean())\n",
    "print(\"в воскресенье\", df.query(\n",
    "    'margin<margin.quantile(0.25) & weekday==6').filling.mean())\n",
    "print(\"во все дни\", df.filling.mean())"
   ]
  },
  {
   "cell_type": "code",
   "execution_count": 177,
   "metadata": {},
   "outputs": [
    {
     "name": "stdout",
     "output_type": "stream",
     "text": [
      "во все понедельники 88.28402366863905\n",
      "во все вторники 88.99408284023667\n",
      "во все среды 85.96153846153845\n",
      "во все четверги 89.28994082840238\n",
      "во все пятницы 91.3609467455621\n",
      "во все субботы 85.26627218934912\n",
      "во все воскресенья 81.59763313609467\n"
     ]
    }
   ],
   "source": [
    "print(\"во все понедельники\", df.query('weekday==0').filling.mean())\n",
    "print(\"во все вторники\", df.query('weekday==1').filling.mean())\n",
    "print(\"во все среды\", df.query('weekday==2').filling.mean())\n",
    "print(\"во все четверги\", df.query('weekday==3').filling.mean())\n",
    "print(\"во все пятницы\", df.query('weekday==4').filling.mean())\n",
    "print(\"во все субботы\", df.query('weekday==5').filling.mean())\n",
    "print(\"во все воскресенья\", df.query('weekday==6').filling.mean())"
   ]
  },
  {
   "cell_type": "code",
   "execution_count": 178,
   "metadata": {},
   "outputs": [
    {
     "name": "stdout",
     "output_type": "stream",
     "text": [
      "во все понедельники 1499416.8215384616\n",
      "во все вторники 1511997.7569230772\n",
      "во все среды 1465179.1633333333\n",
      "во все четверги 1521594.8523076922\n",
      "во все пятницы 1565420.796923077\n",
      "во все субботы 1464050.1538461538\n",
      "во все воскресенья 1380356.6953846153\n",
      "во все дни 1487100.3551111112\n"
     ]
    }
   ],
   "source": [
    "# средняя маржа по дням недели\n",
    "print(\"во все понедельники\", df.query('weekday==0').margin.mean())\n",
    "print(\"во все вторники\", df.query('weekday==1').margin.mean())\n",
    "print(\"во все среды\", df.query('weekday==2').margin.mean())\n",
    "print(\"во все четверги\", df.query('weekday==3').margin.mean())\n",
    "print(\"во все пятницы\", df.query('weekday==4').margin.mean())\n",
    "print(\"во все субботы\", df.query('weekday==5').margin.mean())\n",
    "print(\"во все воскресенья\", df.query('weekday==6').margin.mean())\n",
    "print(\"во все дни\", df.margin.mean())"
   ]
  },
  {
   "cell_type": "code",
   "execution_count": 179,
   "metadata": {},
   "outputs": [
    {
     "name": "stdout",
     "output_type": "stream",
     "text": [
      "во все понедельники 19492418.68\n",
      "во все вторники 19655970.84\n",
      "во все среды 17582149.96\n",
      "во все четверги 19780733.08\n",
      "во все пятницы 20350470.36\n",
      "во все субботы 19032652.0\n",
      "во все воскресенья 17944637.04\n"
     ]
    }
   ],
   "source": [
    "# общая маржа по дням недели\n",
    "print(\"во все понедельники\", df.query('weekday==0').margin.sum())\n",
    "print(\"во все вторники\", df.query('weekday==1').margin.sum())\n",
    "print(\"во все среды\", df.query('weekday==2').margin.sum())\n",
    "print(\"во все четверги\", df.query('weekday==3').margin.sum())\n",
    "print(\"во все пятницы\", df.query('weekday==4').margin.sum())\n",
    "print(\"во все субботы\", df.query('weekday==5').margin.sum())\n",
    "print(\"во все воскресенья\", df.query('weekday==6').margin.sum())"
   ]
  },
  {
   "cell_type": "markdown",
   "metadata": {},
   "source": [
    "Вывод: меньшей популярностью пользуются рейсы в среду и воскресенье"
   ]
  },
  {
   "cell_type": "code",
   "execution_count": 180,
   "metadata": {},
   "outputs": [],
   "source": [
    "# получим рейсы с прибылью меньше 1 квантиля\n",
    "_df = df.query('margin<margin.quantile(0.25)')[['flight_id', 'margin', 'weekday']]\n",
    "_df.sort_values(['margin'], inplace=True)"
   ]
  },
  {
   "cell_type": "code",
   "execution_count": 181,
   "metadata": {},
   "outputs": [
    {
     "data": {
      "text/html": [
       "<div>\n",
       "<style scoped>\n",
       "    .dataframe tbody tr th:only-of-type {\n",
       "        vertical-align: middle;\n",
       "    }\n",
       "\n",
       "    .dataframe tbody tr th {\n",
       "        vertical-align: top;\n",
       "    }\n",
       "\n",
       "    .dataframe thead th {\n",
       "        text-align: right;\n",
       "    }\n",
       "</style>\n",
       "<table border=\"1\" class=\"dataframe\">\n",
       "  <thead>\n",
       "    <tr style=\"text-align: right;\">\n",
       "      <th></th>\n",
       "      <th>flight_id</th>\n",
       "      <th>margin</th>\n",
       "      <th>weekday</th>\n",
       "    </tr>\n",
       "  </thead>\n",
       "  <tbody>\n",
       "    <tr>\n",
       "      <th>56</th>\n",
       "      <td>136352</td>\n",
       "      <td>1216932.00</td>\n",
       "      <td>5</td>\n",
       "    </tr>\n",
       "    <tr>\n",
       "      <th>81</th>\n",
       "      <td>136464</td>\n",
       "      <td>1232260.00</td>\n",
       "      <td>0</td>\n",
       "    </tr>\n",
       "    <tr>\n",
       "      <th>28</th>\n",
       "      <td>136250</td>\n",
       "      <td>1248005.88</td>\n",
       "      <td>2</td>\n",
       "    </tr>\n",
       "    <tr>\n",
       "      <th>69</th>\n",
       "      <td>136418</td>\n",
       "      <td>1252332.00</td>\n",
       "      <td>2</td>\n",
       "    </tr>\n",
       "    <tr>\n",
       "      <th>30</th>\n",
       "      <td>136253</td>\n",
       "      <td>1255441.36</td>\n",
       "      <td>5</td>\n",
       "    </tr>\n",
       "  </tbody>\n",
       "</table>\n",
       "</div>"
      ],
      "text/plain": [
       "    flight_id      margin  weekday\n",
       "56     136352  1216932.00        5\n",
       "81     136464  1232260.00        0\n",
       "28     136250  1248005.88        2\n",
       "69     136418  1252332.00        2\n",
       "30     136253  1255441.36        5"
      ]
     },
     "execution_count": 181,
     "metadata": {},
     "output_type": "execute_result"
    }
   ],
   "source": [
    "_df.head(5)"
   ]
  },
  {
   "cell_type": "code",
   "execution_count": 182,
   "metadata": {},
   "outputs": [
    {
     "ename": "SyntaxError",
     "evalue": "invalid syntax (<ipython-input-182-87763fe63c0b>, line 1)",
     "output_type": "error",
     "traceback": [
      "\u001b[1;36m  File \u001b[1;32m\"<ipython-input-182-87763fe63c0b>\"\u001b[1;36m, line \u001b[1;32m1\u001b[0m\n\u001b[1;33m    Вывод: можно удалить рейс 136352\u001b[0m\n\u001b[1;37m                 ^\u001b[0m\n\u001b[1;31mSyntaxError\u001b[0m\u001b[1;31m:\u001b[0m invalid syntax\n"
     ]
    }
   ],
   "source": [
    "Вывод: можно удалить рейс 136352"
   ]
  },
  {
   "cell_type": "code",
   "execution_count": null,
   "metadata": {},
   "outputs": [],
   "source": []
  },
  {
   "cell_type": "code",
   "execution_count": 183,
   "metadata": {},
   "outputs": [],
   "source": [
    "# направление - Белгород\n",
    "df = data[data.flight_no == 'PG0480']"
   ]
  },
  {
   "cell_type": "code",
   "execution_count": 184,
   "metadata": {},
   "outputs": [
    {
     "data": {
      "text/plain": [
       "<AxesSubplot:>"
      ]
     },
     "execution_count": 184,
     "metadata": {},
     "output_type": "execute_result"
    },
    {
     "data": {
      "image/png": "[encoded data removed]",
      "text/plain": [
       "<Figure size 432x288 with 1 Axes>"
      ]
     },
     "metadata": {
      "needs_background": "light"
     },
     "output_type": "display_data"
    }
   ],
   "source": [
    "df.margin.hist(bins=100)"
   ]
  },
  {
   "cell_type": "code",
   "execution_count": 185,
   "metadata": {},
   "outputs": [
    {
     "data": {
      "text/plain": [
       "<AxesSubplot:>"
      ]
     },
     "execution_count": 185,
     "metadata": {},
     "output_type": "execute_result"
    },
    {
     "data": {
      "image/png": "[encoded data removed]",
      "text/plain": [
       "<Figure size 432x288 with 1 Axes>"
      ]
     },
     "metadata": {
      "needs_background": "light"
     },
     "output_type": "display_data"
    }
   ],
   "source": [
    "df[df.month_dep == 12].margin.hist(bins=31)"
   ]
  },
  {
   "cell_type": "code",
   "execution_count": 186,
   "metadata": {},
   "outputs": [
    {
     "data": {
      "text/plain": [
       "<AxesSubplot:>"
      ]
     },
     "execution_count": 186,
     "metadata": {},
     "output_type": "execute_result"
    },
    {
     "data": {
      "image/png": "[encoded data removed]",
      "text/plain": [
       "<Figure size 432x288 with 1 Axes>"
      ]
     },
     "metadata": {
      "needs_background": "light"
     },
     "output_type": "display_data"
    }
   ],
   "source": [
    "df[df.month_dep == 1].margin.hist(bins=31)"
   ]
  },
  {
   "cell_type": "code",
   "execution_count": 187,
   "metadata": {},
   "outputs": [
    {
     "data": {
      "text/plain": [
       "<AxesSubplot:>"
      ]
     },
     "execution_count": 187,
     "metadata": {},
     "output_type": "execute_result"
    },
    {
     "data": {
      "image/png": "[encoded data removed]",
      "text/plain": [
       "<Figure size 432x288 with 1 Axes>"
      ]
     },
     "metadata": {
      "needs_background": "light"
     },
     "output_type": "display_data"
    }
   ],
   "source": [
    "df[df.month_dep == 2].margin.hist(bins=30)"
   ]
  },
  {
   "cell_type": "markdown",
   "metadata": {},
   "source": [
    "исследуем дни недели в которые была прибыль ниже первого квантиля"
   ]
  },
  {
   "cell_type": "code",
   "execution_count": 188,
   "metadata": {},
   "outputs": [
    {
     "name": "stdout",
     "output_type": "stream",
     "text": [
      "мин. маржа \n"
     ]
    },
    {
     "data": {
      "text/plain": [
       "6    4\n",
       "5    4\n",
       "4    4\n",
       "1    4\n",
       "0    4\n",
       "3    3\n",
       "Name: weekday, dtype: int64"
      ]
     },
     "metadata": {},
     "output_type": "display_data"
    }
   ],
   "source": [
    "df_min = df[df.margin < df.margin.quantile(0.25)]\n",
    "print('мин. маржа ')\n",
    "display(df_min.weekday.value_counts())"
   ]
  },
  {
   "cell_type": "code",
   "execution_count": 189,
   "metadata": {},
   "outputs": [
    {
     "name": "stdout",
     "output_type": "stream",
     "text": [
      "декабрь 2016\n",
      "мин. маржа \n"
     ]
    },
    {
     "data": {
      "text/plain": [
       "6    2\n",
       "5    2\n",
       "4    2\n",
       "0    1\n",
       "Name: weekday, dtype: int64"
      ]
     },
     "metadata": {},
     "output_type": "display_data"
    }
   ],
   "source": [
    "df_min = df.query('margin < margin.quantile(0.25) & month_dep == 12')\n",
    "print('декабрь 2016')\n",
    "print('мин. маржа ')\n",
    "display(df_min.weekday.value_counts())"
   ]
  },
  {
   "cell_type": "code",
   "execution_count": 190,
   "metadata": {},
   "outputs": [
    {
     "name": "stdout",
     "output_type": "stream",
     "text": [
      "январь 2017\n",
      "мин. маржа \n"
     ]
    },
    {
     "data": {
      "text/plain": [
       "0    3\n",
       "1    2\n",
       "6    1\n",
       "5    1\n",
       "4    1\n",
       "3    1\n",
       "Name: weekday, dtype: int64"
      ]
     },
     "metadata": {},
     "output_type": "display_data"
    }
   ],
   "source": [
    "df_min = df.query('margin < margin.quantile(0.25) & month_dep == 1')\n",
    "print('январь 2017')\n",
    "print('мин. маржа ')\n",
    "display(df_min.weekday.value_counts())"
   ]
  },
  {
   "cell_type": "code",
   "execution_count": 191,
   "metadata": {},
   "outputs": [
    {
     "name": "stdout",
     "output_type": "stream",
     "text": [
      "февраль 2017\n",
      "мин. маржа \n"
     ]
    },
    {
     "data": {
      "text/plain": [
       "3    2\n",
       "1    2\n",
       "6    1\n",
       "5    1\n",
       "4    1\n",
       "Name: weekday, dtype: int64"
      ]
     },
     "metadata": {},
     "output_type": "display_data"
    }
   ],
   "source": [
    "df_min = df.query('margin < margin.quantile(0.25) & month_dep == 2')\n",
    "print('февраль 2017')\n",
    "print('мин. маржа ')\n",
    "display(df_min.weekday.value_counts())"
   ]
  },
  {
   "cell_type": "markdown",
   "metadata": {},
   "source": [
    "посмотрим распределение по дням ниже среднего"
   ]
  },
  {
   "cell_type": "code",
   "execution_count": 192,
   "metadata": {},
   "outputs": [
    {
     "name": "stdout",
     "output_type": "stream",
     "text": [
      "мин. маржа \n"
     ]
    },
    {
     "data": {
      "text/plain": [
       "6    8\n",
       "5    7\n",
       "1    6\n",
       "0    6\n",
       "4    5\n",
       "3    4\n",
       "2    1\n",
       "Name: weekday, dtype: int64"
      ]
     },
     "metadata": {},
     "output_type": "display_data"
    }
   ],
   "source": [
    "df_min = df[df.margin < df.margin.mean()]\n",
    "print('мин. маржа ')\n",
    "display(df_min.weekday.value_counts())"
   ]
  },
  {
   "cell_type": "code",
   "execution_count": 193,
   "metadata": {},
   "outputs": [
    {
     "data": {
      "text/plain": [
       "3    4\n",
       "2    4\n",
       "1    4\n",
       "6    3\n",
       "5    3\n",
       "4    3\n",
       "0    2\n",
       "Name: weekday, dtype: int64"
      ]
     },
     "execution_count": 193,
     "metadata": {},
     "output_type": "execute_result"
    }
   ],
   "source": [
    "df[df.margin >= df.margin.quantile(0.75)].weekday.value_counts()"
   ]
  },
  {
   "cell_type": "code",
   "execution_count": 194,
   "metadata": {},
   "outputs": [
    {
     "name": "stdout",
     "output_type": "stream",
     "text": [
      "Бизнес 1 квантиль\n",
      " 18900.0\n",
      "Бизнес 3 квантиль\n",
      " 18900.0\n",
      "Эконом 1 квантиль\n",
      " 6334.254143646409\n",
      "Эконом 3 квантиль\n",
      " 6335.294117647059\n"
     ]
    }
   ],
   "source": [
    "avg_min_b = df.query('margin<margin.quantile(0.25)').total_amount_b.sum() / \\\n",
    "    df.query('margin<margin.quantile(0.25)').total_tickets_b.sum()\n",
    "avg_max_b = df.query('margin>=margin.quantile(0.75)').total_amount_b.sum() / \\\n",
    "    df.query('margin>=margin.quantile(0.75)').total_tickets_b.sum()\n",
    "avg_min_e = df.query('margin<margin.quantile(0.25)').total_amount_e.sum() / \\\n",
    "    df.query('margin<margin.quantile(0.25)').total_tickets_e.sum()\n",
    "avg_max_e = df.query('margin>=margin.quantile(0.75)').total_amount_e.sum() / \\\n",
    "    df.query('margin>=margin.quantile(0.75)').total_tickets_e.sum()\n",
    "print(\"Бизнес 1 квантиль\\n\", avg_min_b)\n",
    "print(\"Бизнес 3 квантиль\\n\", avg_max_b)\n",
    "print(\"Эконом 1 квантиль\\n\", avg_min_e)\n",
    "print(\"Эконом 3 квантиль\\n\", avg_max_e)"
   ]
  },
  {
   "cell_type": "markdown",
   "metadata": {},
   "source": [
    "цена не отличается"
   ]
  },
  {
   "cell_type": "code",
   "execution_count": 195,
   "metadata": {},
   "outputs": [
    {
     "name": "stdout",
     "output_type": "stream",
     "text": [
      "в понедельник 81.44329896907216\n",
      "во вторник 83.76288659793813\n",
      "в среду nan\n",
      "в четверг 81.44329896907216\n",
      "в пятницу 83.24742268041237\n",
      "в субботу 82.47422680412372\n",
      "в воскресенье 84.02061855670104\n"
     ]
    }
   ],
   "source": [
    "# заполненность рейсов\n",
    "print(\"в понедельник\", df.query(\n",
    "    'margin<margin.quantile(0.25) & weekday==0').filling.mean())\n",
    "print(\"во вторник\", df.query(\n",
    "    'margin<margin.quantile(0.25) & weekday==1').filling.mean())\n",
    "print(\"в среду\", df.query('margin<margin.quantile(0.25) & weekday==2').filling.mean())\n",
    "print(\"в четверг\", df.query(\n",
    "    'margin<margin.quantile(0.25) & weekday==3').filling.mean())\n",
    "print(\"в пятницу\", df.query(\n",
    "    'margin<margin.quantile(0.25) & weekday==4').filling.mean())\n",
    "print(\"в субботу\", df.query(\n",
    "    'margin<margin.quantile(0.25) & weekday==5').filling.mean())\n",
    "print(\"в воскресенье\", df.query(\n",
    "    'margin<margin.quantile(0.25) & weekday==6').filling.mean())"
   ]
  },
  {
   "cell_type": "code",
   "execution_count": 196,
   "metadata": {},
   "outputs": [
    {
     "name": "stdout",
     "output_type": "stream",
     "text": [
      "во все понедельники 91.59397303727201\n",
      "во все вторники 92.94210943695481\n",
      "во все среды 98.28178694158076\n",
      "во все четверги 93.49722442505949\n",
      "во все пятницы 92.38699444885012\n",
      "во все субботы 92.54559873116575\n",
      "во все воскресенья 91.91118160190325\n"
     ]
    }
   ],
   "source": [
    "print(\"во все понедельники\", df.query('weekday==0').filling.mean())\n",
    "print(\"во все вторники\", df.query('weekday==1').filling.mean())\n",
    "print(\"во все среды\", df.query('weekday==2').filling.mean())\n",
    "print(\"во все четверги\", df.query('weekday==3').filling.mean())\n",
    "print(\"во все пятницы\", df.query('weekday==4').filling.mean())\n",
    "print(\"во все субботы\", df.query('weekday==5').filling.mean())\n",
    "print(\"во все воскресенья\", df.query('weekday==6').filling.mean())"
   ]
  },
  {
   "cell_type": "markdown",
   "metadata": {},
   "source": [
    "средняя маржа по дням недели"
   ]
  },
  {
   "cell_type": "code",
   "execution_count": 197,
   "metadata": {},
   "outputs": [
    {
     "name": "stdout",
     "output_type": "stream",
     "text": [
      "во все понедельники 642478.2052564103\n",
      "во все вторники 650542.7611538462\n",
      "во все среды 696006.7968055557\n",
      "во все четверги 657488.8264102564\n",
      "во все пятницы 650669.7565384617\n",
      "во все субботы 650112.8196153847\n",
      "во все воскресенья 646148.2633333334\n",
      "во все дни 655764.5531296293\n"
     ]
    }
   ],
   "source": [
    "print(\"во все понедельники\", df.query('weekday==0').margin.mean())\n",
    "print(\"во все вторники\", df.query('weekday==1').margin.mean())\n",
    "print(\"во все среды\", df.query('weekday==2').margin.mean())\n",
    "print(\"во все четверги\", df.query('weekday==3').margin.mean())\n",
    "print(\"во все пятницы\", df.query('weekday==4').margin.mean())\n",
    "print(\"во все субботы\", df.query('weekday==5').margin.mean())\n",
    "print(\"во все воскресенья\", df.query('weekday==6').margin.mean())\n",
    "print(\"во все дни\", df.margin.mean())"
   ]
  },
  {
   "cell_type": "code",
   "execution_count": 198,
   "metadata": {},
   "outputs": [
    {
     "name": "stdout",
     "output_type": "stream",
     "text": [
      "во все понедельники 8352216.668333334\n",
      "во все вторники 8457055.895\n",
      "во все среды 8352081.5616666665\n",
      "во все четверги 8547354.743333332\n",
      "во все пятницы 8458706.835\n",
      "во все субботы 8451466.655000001\n",
      "во все воскресенья 8399927.423333334\n"
     ]
    }
   ],
   "source": [
    "# сумма маржи по дням недели\n",
    "print(\"во все понедельники\", df.query('weekday==0').margin.sum())\n",
    "print(\"во все вторники\", df.query('weekday==1').margin.sum())\n",
    "print(\"во все среды\", df.query('weekday==2').margin.sum())\n",
    "print(\"во все четверги\", df.query('weekday==3').margin.sum())\n",
    "print(\"во все пятницы\", df.query('weekday==4').margin.sum())\n",
    "print(\"во все субботы\", df.query('weekday==5').margin.sum())\n",
    "print(\"во все воскресенья\", df.query('weekday==6').margin.sum())"
   ]
  },
  {
   "cell_type": "code",
   "execution_count": 199,
   "metadata": {},
   "outputs": [
    {
     "data": {
      "text/plain": [
       "weekday\n",
       "0    8.352217e+06\n",
       "1    8.457056e+06\n",
       "2    8.352082e+06\n",
       "3    8.547355e+06\n",
       "4    8.458707e+06\n",
       "5    8.451467e+06\n",
       "6    8.399927e+06\n",
       "Name: margin, dtype: float64"
      ]
     },
     "execution_count": 199,
     "metadata": {},
     "output_type": "execute_result"
    }
   ],
   "source": [
    "df.groupby('weekday').margin.sum()"
   ]
  },
  {
   "cell_type": "code",
   "execution_count": 200,
   "metadata": {},
   "outputs": [],
   "source": [
    "#_d = [0, 1, 2, 3, 4, 5, 6]\n",
    "#_f = df.groupby('weekday').margin.sum()"
   ]
  },
  {
   "cell_type": "code",
   "execution_count": 201,
   "metadata": {},
   "outputs": [],
   "source": [
    "#_df = pd.DataFrame(_f, _d)"
   ]
  },
  {
   "cell_type": "code",
   "execution_count": 202,
   "metadata": {},
   "outputs": [],
   "source": [
    "#_df.margin.hist()"
   ]
  },
  {
   "cell_type": "markdown",
   "metadata": {},
   "source": [
    "Вывод: меньшей популярностью пользуются рейсы в понедельник и среду"
   ]
  },
  {
   "cell_type": "code",
   "execution_count": 203,
   "metadata": {},
   "outputs": [],
   "source": [
    "# получим рейсы с прибылью меньше 1 квантиля\n",
    "_df = df.query('margin<margin.quantile(0.25)')[['flight_id', 'margin', 'weekday']]\n",
    "_df.sort_values(['margin'], inplace=True)"
   ]
  },
  {
   "cell_type": "code",
   "execution_count": 204,
   "metadata": {},
   "outputs": [
    {
     "data": {
      "text/html": [
       "<div>\n",
       "<style scoped>\n",
       "    .dataframe tbody tr th:only-of-type {\n",
       "        vertical-align: middle;\n",
       "    }\n",
       "\n",
       "    .dataframe tbody tr th {\n",
       "        vertical-align: top;\n",
       "    }\n",
       "\n",
       "    .dataframe thead th {\n",
       "        text-align: right;\n",
       "    }\n",
       "</style>\n",
       "<table border=\"1\" class=\"dataframe\">\n",
       "  <thead>\n",
       "    <tr style=\"text-align: right;\">\n",
       "      <th></th>\n",
       "      <th>flight_id</th>\n",
       "      <th>margin</th>\n",
       "      <th>weekday</th>\n",
       "    </tr>\n",
       "  </thead>\n",
       "  <tbody>\n",
       "    <tr>\n",
       "      <th>102</th>\n",
       "      <td>136642</td>\n",
       "      <td>473474.408333</td>\n",
       "      <td>0</td>\n",
       "    </tr>\n",
       "    <tr>\n",
       "      <th>144</th>\n",
       "      <td>136807</td>\n",
       "      <td>474966.583333</td>\n",
       "      <td>3</td>\n",
       "    </tr>\n",
       "    <tr>\n",
       "      <th>152</th>\n",
       "      <td>136844</td>\n",
       "      <td>519066.583333</td>\n",
       "      <td>1</td>\n",
       "    </tr>\n",
       "    <tr>\n",
       "      <th>164</th>\n",
       "      <td>136887</td>\n",
       "      <td>537674.408333</td>\n",
       "      <td>4</td>\n",
       "    </tr>\n",
       "    <tr>\n",
       "      <th>170</th>\n",
       "      <td>136922</td>\n",
       "      <td>551766.583333</td>\n",
       "      <td>5</td>\n",
       "    </tr>\n",
       "  </tbody>\n",
       "</table>\n",
       "</div>"
      ],
      "text/plain": [
       "     flight_id         margin  weekday\n",
       "102     136642  473474.408333        0\n",
       "144     136807  474966.583333        3\n",
       "152     136844  519066.583333        1\n",
       "164     136887  537674.408333        4\n",
       "170     136922  551766.583333        5"
      ]
     },
     "execution_count": 204,
     "metadata": {},
     "output_type": "execute_result"
    }
   ],
   "source": [
    "_df.head(5)"
   ]
  },
  {
   "cell_type": "markdown",
   "metadata": {},
   "source": [
    "Вывод: можно удалить рейсы 136642 и 136807"
   ]
  },
  {
   "cell_type": "code",
   "execution_count": 53,
   "metadata": {},
   "outputs": [],
   "source": [
    "# data.to_csv('anapa_1.csv', index = False)"
   ]
  },
  {
   "cell_type": "code",
   "execution_count": null,
   "metadata": {},
   "outputs": [],
   "source": []
  }
 ],
 "metadata": {
  "kernelspec": {
   "display_name": "Python 3",
   "language": "python",
   "name": "python3"
  },
  "language_info": {
   "codemirror_mode": {
    "name": "ipython",
    "version": 3
   },
   "file_extension": ".py",
   "mimetype": "text/x-python",
   "name": "python",
   "nbconvert_exporter": "python",
   "pygments_lexer": "ipython3",
   "version": "3.8.5"
  }
 },
 "nbformat": 4,
 "nbformat_minor": 4
}
